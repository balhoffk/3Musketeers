{
 "nbformat": 4,
 "nbformat_minor": 2,
 "metadata": {
  "language_info": {
   "name": "python",
   "codemirror_mode": {
    "name": "ipython",
    "version": 3
   },
   "version": "3.7.4-final"
  },
  "orig_nbformat": 2,
  "file_extension": ".py",
  "mimetype": "text/x-python",
  "name": "python",
  "npconvert_exporter": "python",
  "pygments_lexer": "ipython3",
  "version": 3,
  "kernelspec": {
   "name": "python37464bitbasecondad15c2425cf4349178bea86b871cda123",
   "display_name": "Python 3.7.4 64-bit ('base': conda)"
  }
 },
 "cells": [
  {
   "cell_type": "code",
   "execution_count": 50,
   "metadata": {},
   "outputs": [],
   "source": [
    "#dependencies\n",
    "import pandas as pd\n",
    "from sqlalchemy import create_engine"
   ]
  },
  {
   "cell_type": "code",
   "execution_count": 51,
   "metadata": {},
   "outputs": [
    {
     "data": {
      "text/html": "<div>\n<style scoped>\n    .dataframe tbody tr th:only-of-type {\n        vertical-align: middle;\n    }\n\n    .dataframe tbody tr th {\n        vertical-align: top;\n    }\n\n    .dataframe thead th {\n        text-align: right;\n    }\n</style>\n<table border=\"1\" class=\"dataframe\">\n  <thead>\n    <tr style=\"text-align: right;\">\n      <th></th>\n      <th>Tm</th>\n      <th>#P</th>\n      <th>PAge</th>\n      <th>RA/G</th>\n      <th>W</th>\n      <th>L</th>\n      <th>W-L%</th>\n      <th>ERA</th>\n      <th>G</th>\n      <th>GS</th>\n      <th>...</th>\n      <th>BF</th>\n      <th>ERA+</th>\n      <th>FIP</th>\n      <th>WHIP</th>\n      <th>H9</th>\n      <th>HR9</th>\n      <th>BB9</th>\n      <th>SO9</th>\n      <th>SO/W</th>\n      <th>LOB</th>\n    </tr>\n  </thead>\n  <tbody>\n    <tr>\n      <td>0</td>\n      <td>ARI</td>\n      <td>27</td>\n      <td>27.1</td>\n      <td>4.40</td>\n      <td>79</td>\n      <td>83</td>\n      <td>0.488</td>\n      <td>4.04</td>\n      <td>162</td>\n      <td>162</td>\n      <td>...</td>\n      <td>6257</td>\n      <td>102</td>\n      <td>4.21</td>\n      <td>1.330</td>\n      <td>8.9</td>\n      <td>1.1</td>\n      <td>3.1</td>\n      <td>7.5</td>\n      <td>2.43</td>\n      <td>1144</td>\n    </tr>\n    <tr>\n      <td>1</td>\n      <td>ATL</td>\n      <td>37</td>\n      <td>26.6</td>\n      <td>4.69</td>\n      <td>67</td>\n      <td>95</td>\n      <td>0.414</td>\n      <td>4.41</td>\n      <td>162</td>\n      <td>162</td>\n      <td>...</td>\n      <td>6156</td>\n      <td>88</td>\n      <td>4.34</td>\n      <td>1.412</td>\n      <td>9.2</td>\n      <td>1.1</td>\n      <td>3.5</td>\n      <td>7.2</td>\n      <td>2.09</td>\n      <td>1120</td>\n    </tr>\n    <tr>\n      <td>2</td>\n      <td>BAL</td>\n      <td>22</td>\n      <td>28.3</td>\n      <td>4.28</td>\n      <td>81</td>\n      <td>81</td>\n      <td>0.500</td>\n      <td>4.05</td>\n      <td>162</td>\n      <td>162</td>\n      <td>...</td>\n      <td>6085</td>\n      <td>102</td>\n      <td>4.11</td>\n      <td>1.317</td>\n      <td>8.8</td>\n      <td>1.1</td>\n      <td>3.0</td>\n      <td>7.7</td>\n      <td>2.55</td>\n      <td>1088</td>\n    </tr>\n    <tr>\n      <td>3</td>\n      <td>BOS</td>\n      <td>26</td>\n      <td>28.6</td>\n      <td>4.65</td>\n      <td>78</td>\n      <td>84</td>\n      <td>0.481</td>\n      <td>4.31</td>\n      <td>162</td>\n      <td>162</td>\n      <td>...</td>\n      <td>6225</td>\n      <td>100</td>\n      <td>4.17</td>\n      <td>1.356</td>\n      <td>9.2</td>\n      <td>1.1</td>\n      <td>3.0</td>\n      <td>7.6</td>\n      <td>2.55</td>\n      <td>1127</td>\n    </tr>\n    <tr>\n      <td>4</td>\n      <td>CHC</td>\n      <td>29</td>\n      <td>29.3</td>\n      <td>3.75</td>\n      <td>97</td>\n      <td>65</td>\n      <td>0.599</td>\n      <td>3.36</td>\n      <td>162</td>\n      <td>162</td>\n      <td>...</td>\n      <td>5997</td>\n      <td>114</td>\n      <td>3.30</td>\n      <td>1.152</td>\n      <td>7.9</td>\n      <td>0.8</td>\n      <td>2.5</td>\n      <td>8.8</td>\n      <td>3.52</td>\n      <td>1005</td>\n    </tr>\n  </tbody>\n</table>\n<p>5 rows × 36 columns</p>\n</div>",
      "text/plain": "    Tm  #P  PAge  RA/G   W   L   W-L%   ERA    G   GS  ...    BF  ERA+   FIP  \\\n0  ARI  27  27.1  4.40  79  83  0.488  4.04  162  162  ...  6257   102  4.21   \n1  ATL  37  26.6  4.69  67  95  0.414  4.41  162  162  ...  6156    88  4.34   \n2  BAL  22  28.3  4.28  81  81  0.500  4.05  162  162  ...  6085   102  4.11   \n3  BOS  26  28.6  4.65  78  84  0.481  4.31  162  162  ...  6225   100  4.17   \n4  CHC  29  29.3  3.75  97  65  0.599  3.36  162  162  ...  5997   114  3.30   \n\n    WHIP   H9  HR9  BB9  SO9  SO/W   LOB  \n0  1.330  8.9  1.1  3.1  7.5  2.43  1144  \n1  1.412  9.2  1.1  3.5  7.2  2.09  1120  \n2  1.317  8.8  1.1  3.0  7.7  2.55  1088  \n3  1.356  9.2  1.1  3.0  7.6  2.55  1127  \n4  1.152  7.9  0.8  2.5  8.8  3.52  1005  \n\n[5 rows x 36 columns]"
     },
     "execution_count": 51,
     "metadata": {},
     "output_type": "execute_result"
    }
   ],
   "source": [
    "#bring in the CSV file for the baseball defense data and read the CSV\n",
    "file = '2015pitching.csv'\n",
    "defense_data = pd.read_csv(file)\n",
    "defense_data.head()"
   ]
  },
  {
   "cell_type": "code",
   "execution_count": 52,
   "metadata": {},
   "outputs": [
    {
     "data": {
      "text/html": "<div>\n<style scoped>\n    .dataframe tbody tr th:only-of-type {\n        vertical-align: middle;\n    }\n\n    .dataframe tbody tr th {\n        vertical-align: top;\n    }\n\n    .dataframe thead th {\n        text-align: right;\n    }\n</style>\n<table border=\"1\" class=\"dataframe\">\n  <thead>\n    <tr style=\"text-align: right;\">\n      <th></th>\n      <th>Tm</th>\n      <th>SV</th>\n      <th>R</th>\n      <th>HR</th>\n      <th>SO</th>\n    </tr>\n  </thead>\n  <tbody>\n    <tr>\n      <td>0</td>\n      <td>ARI</td>\n      <td>44</td>\n      <td>713</td>\n      <td>182</td>\n      <td>1215</td>\n    </tr>\n    <tr>\n      <td>1</td>\n      <td>ATL</td>\n      <td>44</td>\n      <td>760</td>\n      <td>170</td>\n      <td>1148</td>\n    </tr>\n    <tr>\n      <td>2</td>\n      <td>BAL</td>\n      <td>43</td>\n      <td>693</td>\n      <td>174</td>\n      <td>1233</td>\n    </tr>\n    <tr>\n      <td>3</td>\n      <td>BOS</td>\n      <td>40</td>\n      <td>753</td>\n      <td>178</td>\n      <td>1218</td>\n    </tr>\n    <tr>\n      <td>4</td>\n      <td>CHC</td>\n      <td>48</td>\n      <td>608</td>\n      <td>134</td>\n      <td>1431</td>\n    </tr>\n  </tbody>\n</table>\n</div>",
      "text/plain": "    Tm  SV    R   HR    SO\n0  ARI  44  713  182  1215\n1  ATL  44  760  170  1148\n2  BAL  43  693  174  1233\n3  BOS  40  753  178  1218\n4  CHC  48  608  134  1431"
     },
     "execution_count": 52,
     "metadata": {},
     "output_type": "execute_result"
    }
   ],
   "source": [
    "#keep only columns that we need\n",
    "defense_data = defense_data[['Tm','SV','R','HR','SO']]\n",
    "defense_data.head()"
   ]
  },
  {
   "cell_type": "code",
   "execution_count": 53,
   "metadata": {},
   "outputs": [
    {
     "data": {
      "text/html": "<div>\n<style scoped>\n    .dataframe tbody tr th:only-of-type {\n        vertical-align: middle;\n    }\n\n    .dataframe tbody tr th {\n        vertical-align: top;\n    }\n\n    .dataframe thead th {\n        text-align: right;\n    }\n</style>\n<table border=\"1\" class=\"dataframe\">\n  <thead>\n    <tr style=\"text-align: right;\">\n      <th></th>\n      <th>TEAM</th>\n      <th>SAVES</th>\n      <th>RUNS</th>\n      <th>HOMERUNS</th>\n      <th>STRIKEOUTS</th>\n    </tr>\n  </thead>\n  <tbody>\n    <tr>\n      <td>0</td>\n      <td>ARI</td>\n      <td>44</td>\n      <td>713</td>\n      <td>182</td>\n      <td>1215</td>\n    </tr>\n    <tr>\n      <td>1</td>\n      <td>ATL</td>\n      <td>44</td>\n      <td>760</td>\n      <td>170</td>\n      <td>1148</td>\n    </tr>\n    <tr>\n      <td>2</td>\n      <td>BAL</td>\n      <td>43</td>\n      <td>693</td>\n      <td>174</td>\n      <td>1233</td>\n    </tr>\n    <tr>\n      <td>3</td>\n      <td>BOS</td>\n      <td>40</td>\n      <td>753</td>\n      <td>178</td>\n      <td>1218</td>\n    </tr>\n    <tr>\n      <td>4</td>\n      <td>CHC</td>\n      <td>48</td>\n      <td>608</td>\n      <td>134</td>\n      <td>1431</td>\n    </tr>\n    <tr>\n      <td>5</td>\n      <td>CHW</td>\n      <td>37</td>\n      <td>701</td>\n      <td>162</td>\n      <td>1359</td>\n    </tr>\n    <tr>\n      <td>6</td>\n      <td>CIN</td>\n      <td>35</td>\n      <td>754</td>\n      <td>177</td>\n      <td>1252</td>\n    </tr>\n    <tr>\n      <td>7</td>\n      <td>CLE</td>\n      <td>38</td>\n      <td>640</td>\n      <td>161</td>\n      <td>1407</td>\n    </tr>\n    <tr>\n      <td>8</td>\n      <td>COL</td>\n      <td>36</td>\n      <td>844</td>\n      <td>183</td>\n      <td>1112</td>\n    </tr>\n    <tr>\n      <td>9</td>\n      <td>DET</td>\n      <td>35</td>\n      <td>803</td>\n      <td>193</td>\n      <td>1100</td>\n    </tr>\n    <tr>\n      <td>10</td>\n      <td>HOU</td>\n      <td>39</td>\n      <td>618</td>\n      <td>148</td>\n      <td>1280</td>\n    </tr>\n    <tr>\n      <td>11</td>\n      <td>KCR</td>\n      <td>56</td>\n      <td>641</td>\n      <td>155</td>\n      <td>1160</td>\n    </tr>\n    <tr>\n      <td>12</td>\n      <td>LAA</td>\n      <td>46</td>\n      <td>675</td>\n      <td>166</td>\n      <td>1221</td>\n    </tr>\n    <tr>\n      <td>13</td>\n      <td>LAD</td>\n      <td>47</td>\n      <td>595</td>\n      <td>145</td>\n      <td>1396</td>\n    </tr>\n    <tr>\n      <td>14</td>\n      <td>MIA</td>\n      <td>35</td>\n      <td>678</td>\n      <td>141</td>\n      <td>1152</td>\n    </tr>\n    <tr>\n      <td>15</td>\n      <td>MIL</td>\n      <td>40</td>\n      <td>737</td>\n      <td>176</td>\n      <td>1260</td>\n    </tr>\n    <tr>\n      <td>16</td>\n      <td>MIN</td>\n      <td>45</td>\n      <td>700</td>\n      <td>163</td>\n      <td>1046</td>\n    </tr>\n    <tr>\n      <td>17</td>\n      <td>NYM</td>\n      <td>50</td>\n      <td>613</td>\n      <td>152</td>\n      <td>1337</td>\n    </tr>\n    <tr>\n      <td>18</td>\n      <td>NYY</td>\n      <td>48</td>\n      <td>698</td>\n      <td>182</td>\n      <td>1370</td>\n    </tr>\n    <tr>\n      <td>19</td>\n      <td>OAK</td>\n      <td>28</td>\n      <td>729</td>\n      <td>172</td>\n      <td>1179</td>\n    </tr>\n    <tr>\n      <td>20</td>\n      <td>PHI</td>\n      <td>35</td>\n      <td>809</td>\n      <td>191</td>\n      <td>1153</td>\n    </tr>\n    <tr>\n      <td>21</td>\n      <td>PIT</td>\n      <td>54</td>\n      <td>596</td>\n      <td>110</td>\n      <td>1338</td>\n    </tr>\n    <tr>\n      <td>22</td>\n      <td>SDP</td>\n      <td>41</td>\n      <td>731</td>\n      <td>171</td>\n      <td>1393</td>\n    </tr>\n    <tr>\n      <td>23</td>\n      <td>SEA</td>\n      <td>45</td>\n      <td>726</td>\n      <td>181</td>\n      <td>1283</td>\n    </tr>\n    <tr>\n      <td>24</td>\n      <td>SFG</td>\n      <td>41</td>\n      <td>627</td>\n      <td>155</td>\n      <td>1165</td>\n    </tr>\n    <tr>\n      <td>25</td>\n      <td>STL</td>\n      <td>62</td>\n      <td>525</td>\n      <td>123</td>\n      <td>1329</td>\n    </tr>\n    <tr>\n      <td>26</td>\n      <td>TBR</td>\n      <td>60</td>\n      <td>642</td>\n      <td>175</td>\n      <td>1355</td>\n    </tr>\n    <tr>\n      <td>27</td>\n      <td>TEX</td>\n      <td>45</td>\n      <td>733</td>\n      <td>171</td>\n      <td>1095</td>\n    </tr>\n    <tr>\n      <td>28</td>\n      <td>TOR</td>\n      <td>34</td>\n      <td>670</td>\n      <td>173</td>\n      <td>1117</td>\n    </tr>\n    <tr>\n      <td>29</td>\n      <td>WSN</td>\n      <td>41</td>\n      <td>635</td>\n      <td>145</td>\n      <td>1342</td>\n    </tr>\n  </tbody>\n</table>\n</div>",
      "text/plain": "   TEAM  SAVES  RUNS  HOMERUNS  STRIKEOUTS\n0   ARI     44   713       182        1215\n1   ATL     44   760       170        1148\n2   BAL     43   693       174        1233\n3   BOS     40   753       178        1218\n4   CHC     48   608       134        1431\n5   CHW     37   701       162        1359\n6   CIN     35   754       177        1252\n7   CLE     38   640       161        1407\n8   COL     36   844       183        1112\n9   DET     35   803       193        1100\n10  HOU     39   618       148        1280\n11  KCR     56   641       155        1160\n12  LAA     46   675       166        1221\n13  LAD     47   595       145        1396\n14  MIA     35   678       141        1152\n15  MIL     40   737       176        1260\n16  MIN     45   700       163        1046\n17  NYM     50   613       152        1337\n18  NYY     48   698       182        1370\n19  OAK     28   729       172        1179\n20  PHI     35   809       191        1153\n21  PIT     54   596       110        1338\n22  SDP     41   731       171        1393\n23  SEA     45   726       181        1283\n24  SFG     41   627       155        1165\n25  STL     62   525       123        1329\n26  TBR     60   642       175        1355\n27  TEX     45   733       171        1095\n28  TOR     34   670       173        1117\n29  WSN     41   635       145        1342"
     },
     "execution_count": 53,
     "metadata": {},
     "output_type": "execute_result"
    }
   ],
   "source": [
    "#add column to show year\n",
    "defense_data = defense_data.rename(columns = {'Tm':'TEAM', 'SV':'SAVES','R':'RUNS','HR':'HOMERUNS','SO':'STRIKEOUTS'})\n",
    "defense_data = defense_data.drop([30,31])\n",
    "defense_data\n"
   ]
  },
  {
   "cell_type": "code",
   "execution_count": 54,
   "metadata": {},
   "outputs": [],
   "source": [
    "#export data into a CSV file\n",
    "defense_data.to_csv('2015_defense_pandas_data.csv')\n"
   ]
  },
  {
   "cell_type": "code",
   "execution_count": null,
   "metadata": {},
   "outputs": [],
   "source": []
  }
 ]
}